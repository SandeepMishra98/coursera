{
 "cells": [
  {
   "cell_type": "markdown",
   "id": "0ce62f7c-c439-4294-9e19-50e1e0cdba1f",
   "metadata": {},
   "source": [
    "<h1>My Jupyter Notebook on IBM Watson Studio<h1>"
   ]
  },
  {
   "cell_type": "markdown",
   "id": "489feb17-7db2-46b7-95fc-2c6c76a81a4d",
   "metadata": {},
   "source": [
    "**Sandeep Kumar Mishra**  \n",
    "    Current Job: Analyst at Capgemini"
   ]
  },
  {
   "cell_type": "markdown",
   "id": "e61a7e40-4413-4cb1-a77a-cba7390201aa",
   "metadata": {},
   "source": [
    "*I am interested in data science because I love the fact that there are so much information hidden in a simple table and the fact that I would be able to do learn how to extract all those information and insights out of that excites me always.*"
   ]
  },
  {
   "cell_type": "markdown",
   "id": "d1fa2c3e-c127-43c9-bae7-d7ca8497bee1",
   "metadata": {},
   "source": [
    "<h3> Below code will print the result of adding 10 and 20<h3>"
   ]
  },
  {
   "cell_type": "code",
   "execution_count": 1,
   "id": "07c5e28f-7ef3-4e80-bff4-fc84a5b77282",
   "metadata": {},
   "outputs": [
    {
     "name": "stdout",
     "output_type": "stream",
     "text": [
      "30\n"
     ]
    }
   ],
   "source": [
    "print(10+20)"
   ]
  },
  {
   "cell_type": "markdown",
   "id": "6a1c8675-3f86-434f-98ec-36349a33b507",
   "metadata": {},
   "source": [
    "<a href=\"https://www.youtube.com/\">**Youtube**</a>\n",
    "\n",
    "|name|Age|\n",
    "|-----|------|\n",
    "|Sandeep|24|\n",
    "\n",
    "<ol>\n",
    "<li>Data </li>\n",
    "<li>Science </li>\n",
    "<li>Course</li>\n",
    "</ol>"
   ]
  }
 ],
 "metadata": {
  "kernelspec": {
   "display_name": "Python",
   "language": "python",
   "name": "conda-env-python-py"
  },
  "language_info": {
   "codemirror_mode": {
    "name": "ipython",
    "version": 3
   },
   "file_extension": ".py",
   "mimetype": "text/x-python",
   "name": "python",
   "nbconvert_exporter": "python",
   "pygments_lexer": "ipython3",
   "version": "3.7.12"
  }
 },
 "nbformat": 4,
 "nbformat_minor": 5
}
